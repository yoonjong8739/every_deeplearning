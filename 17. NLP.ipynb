{
 "cells": [
  {
   "cell_type": "markdown",
   "metadata": {},
   "source": [
    "### 실습 | 영화 리뷰가 긍정적인지 부정적인지 예측"
   ]
  },
  {
   "cell_type": "code",
   "execution_count": 6,
   "metadata": {},
   "outputs": [
    {
     "name": "stdout",
     "output_type": "stream",
     "text": [
      "{'너무': 1, '재밌네요': 2, '최고에요': 3, '참': 4, '잘': 5, '만든': 6, '영화네요': 7, '추천하고': 8, '싶은': 9, '영화입니다': 10, '한번': 11, '더': 12, '보고싶네요': 13, '글쎄요': 14, '별로에요': 15, '생각보다': 16, '지루하네요': 17, '연기가': 18, '어색해요': 19, '재미없어요': 20}\n",
      "\n",
      "리뷰 텍스트, 토큰화 결과 :\n",
      " [[1, 2], [3], [4, 5, 6, 7], [8, 9, 10], [11, 12, 13], [14], [15], [16, 17], [18, 19], [20]]\n"
     ]
    },
    {
     "data": {
      "image/png": "[encoded data removed]",
      "text/plain": [
       "<Figure size 640x480 with 1 Axes>"
      ]
     },
     "metadata": {},
     "output_type": "display_data"
    }
   ],
   "source": [
    "from keras.preprocessing.text import Tokenizer\n",
    "from keras.utils import pad_sequences, to_categorical\n",
    "from keras.models import Sequential\n",
    "from keras.layers import Dense, Flatten, Embedding\n",
    "import numpy as np\n",
    "import matplotlib.pyplot as plt\n",
    "plt.style.use('ggplot')\n",
    "\n",
    "docs = [\"너무 재밌네요\", \"최고에요\", \"참 잘 만든 영화네요\", \"추천하고 싶은 영화입니다\", \"한번 더 보고싶네요\", \"글쎄요\", \"별로에요\", \"생각보다 지루하네요\",\n",
    "        \"연기가 어색해요\", \"재미없어요\"]\n",
    "\n",
    "classes = np.array([1,1,1,1,1,0,0,0,0,0])  # 긍정1, 부정0\n",
    "\n",
    "token = Tokenizer()\n",
    "token.fit_on_texts(docs)\n",
    "print(token.word_index)\n",
    "\n",
    "X = token.texts_to_sequences(docs)\n",
    "print(\"\\n리뷰 텍스트, 토큰화 결과 :\\n\", X)\n",
    "\n",
    "plt.hist([ len(x) for x in X ], bins=50)\n",
    "plt.xlabel('Length of Samples')\n",
    "plt.ylabel('Number of Samples')\n",
    "plt.show();\n"
   ]
  },
  {
   "cell_type": "code",
   "execution_count": 7,
   "metadata": {},
   "outputs": [
    {
     "name": "stdout",
     "output_type": "stream",
     "text": [
      "\n",
      "패딩 결과 :\n",
      "[[ 0  0  1  2]\n",
      " [ 0  0  0  3]\n",
      " [ 4  5  6  7]\n",
      " [ 0  8  9 10]\n",
      " [ 0 11 12 13]\n",
      " [ 0  0  0 14]\n",
      " [ 0  0  0 15]\n",
      " [ 0  0 16 17]\n",
      " [ 0  0 18 19]\n",
      " [ 0  0  0 20]]\n",
      "21\n"
     ]
    }
   ],
   "source": [
    "max_len = 4\n",
    "padded_x = pad_sequences(X, maxlen=max_len, padding='pre')\n",
    "print(\"\\n패딩 결과 :\\n{}\".format(padded_x))\n",
    "\n",
    "word_size = len(token.word_index) + 1  # 임베딩에 입력될 단어의 수 지정\n",
    "print(word_size)"
   ]
  },
  {
   "cell_type": "code",
   "execution_count": 8,
   "metadata": {},
   "outputs": [
    {
     "name": "stdout",
     "output_type": "stream",
     "text": [
      "Model: \"sequential_1\"\n",
      "_________________________________________________________________\n",
      " Layer (type)                Output Shape              Param #   \n",
      "=================================================================\n",
      " embedding_1 (Embedding)     (None, 4, 8)              168       \n",
      "                                                                 \n",
      " flatten_1 (Flatten)         (None, 32)                0         \n",
      "                                                                 \n",
      " dense_1 (Dense)             (None, 1)                 33        \n",
      "                                                                 \n",
      "=================================================================\n",
      "Total params: 201 (804.00 Byte)\n"
     ]
    },
    {
     "name": "stdout",
     "output_type": "stream",
     "text": [
      "Trainable params: 201 (804.00 Byte)\n",
      "Non-trainable params: 0 (0.00 Byte)\n",
      "_________________________________________________________________\n",
      "Epoch 1/20\n",
      "1/1 [==============================] - 1s 681ms/step - loss: 0.6966 - acc: 0.4000\n",
      "Epoch 2/20\n",
      "1/1 [==============================] - 0s 5ms/step - loss: 0.6950 - acc: 0.5000\n",
      "Epoch 3/20\n",
      "1/1 [==============================] - 0s 9ms/step - loss: 0.6934 - acc: 0.5000\n",
      "Epoch 4/20\n",
      "1/1 [==============================] - 0s 7ms/step - loss: 0.6918 - acc: 0.5000\n",
      "Epoch 5/20\n",
      "1/1 [==============================] - 0s 10ms/step - loss: 0.6901 - acc: 0.6000\n",
      "Epoch 6/20\n",
      "1/1 [==============================] - 0s 13ms/step - loss: 0.6885 - acc: 0.7000\n",
      "Epoch 7/20\n",
      "1/1 [==============================] - 0s 13ms/step - loss: 0.6869 - acc: 0.8000\n",
      "Epoch 8/20\n",
      "1/1 [==============================] - 0s 10ms/step - loss: 0.6853 - acc: 0.9000\n",
      "Epoch 9/20\n",
      "1/1 [==============================] - 0s 8ms/step - loss: 0.6837 - acc: 0.9000\n",
      "Epoch 10/20\n",
      "1/1 [==============================] - 0s 7ms/step - loss: 0.6821 - acc: 0.9000\n",
      "Epoch 11/20\n",
      "1/1 [==============================] - 0s 12ms/step - loss: 0.6805 - acc: 1.0000\n",
      "Epoch 12/20\n",
      "1/1 [==============================] - 0s 6ms/step - loss: 0.6789 - acc: 1.0000\n",
      "Epoch 13/20\n",
      "1/1 [==============================] - 0s 5ms/step - loss: 0.6772 - acc: 1.0000\n",
      "Epoch 14/20\n",
      "1/1 [==============================] - 0s 5ms/step - loss: 0.6756 - acc: 1.0000\n",
      "Epoch 15/20\n",
      "1/1 [==============================] - 0s 5ms/step - loss: 0.6740 - acc: 1.0000\n",
      "Epoch 16/20\n",
      "1/1 [==============================] - 0s 5ms/step - loss: 0.6724 - acc: 1.0000\n",
      "Epoch 17/20\n",
      "1/1 [==============================] - 0s 8ms/step - loss: 0.6708 - acc: 1.0000\n",
      "Epoch 18/20\n",
      "1/1 [==============================] - 0s 10ms/step - loss: 0.6691 - acc: 1.0000\n",
      "Epoch 19/20\n",
      "1/1 [==============================] - 0s 7ms/step - loss: 0.6675 - acc: 1.0000\n",
      "Epoch 20/20\n",
      "1/1 [==============================] - 0s 6ms/step - loss: 0.6658 - acc: 1.0000\n",
      "1/1 [==============================] - 0s 192ms/step - loss: 0.6642 - acc: 1.0000\n",
      "\n",
      "Accuracy : 1.0000\n",
      "\n"
     ]
    }
   ],
   "source": [
    "model = Sequential()\n",
    "model.add(Embedding(input_dim=word_size, output_dim=8, input_length=max_len))\n",
    "model.add(Flatten())\n",
    "model.add(Dense(1, activation='sigmoid'))\n",
    "model.summary()\n",
    "\n",
    "model.compile(\n",
    "    optimizer='adam',\n",
    "    loss='binary_crossentropy',\n",
    "    metrics=['acc']\n",
    ")\n",
    "\n",
    "model.fit(padded_x, classes, epochs=20)\n",
    "print(\"\\nAccuracy : %.4f\\n\" % (model.evaluate(padded_x, classes)[1]))"
   ]
  },
  {
   "cell_type": "code",
   "execution_count": null,
   "metadata": {},
   "outputs": [],
   "source": []
  }
 ],
 "metadata": {
  "kernelspec": {
   "display_name": "venv",
   "language": "python",
   "name": "python3"
  },
  "language_info": {
   "codemirror_mode": {
    "name": "ipython",
    "version": 3
   },
   "file_extension": ".py",
   "mimetype": "text/x-python",
   "name": "python",
   "nbconvert_exporter": "python",
   "pygments_lexer": "ipython3",
   "version": "3.9.13"
  },
  "orig_nbformat": 4
 },
 "nbformat": 4,
 "nbformat_minor": 2
}
